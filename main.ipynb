{
 "cells": [
  {
   "cell_type": "code",
   "execution_count": 4,
   "metadata": {},
   "outputs": [
    {
     "data": {
      "text/plain": [
       "printRegression (generic function with 1 method)"
      ]
     },
     "execution_count": 4,
     "metadata": {},
     "output_type": "execute_result"
    }
   ],
   "source": [
    "using CSV\n",
    "using DataFrames\n",
    "using DelimitedFiles\n",
    "include(\"test.jl\")\n"
   ]
  },
  {
   "cell_type": "code",
   "execution_count": 78,
   "metadata": {},
   "outputs": [
    {
     "name": "stderr",
     "output_type": "stream",
     "text": [
      "┌ Warning: `CSV.read(input; kw...)` is deprecated in favor of `DataFrame!(CSV.File(input; kw...))`\n",
      "└ @ CSV C:\\Users\\USER\\.julia\\packages\\CSV\\UWuB2\\src\\CSV.jl:40\n"
     ]
    },
    {
     "data": {
      "text/html": [
       "<table class=\"data-frame\"><thead><tr><th></th><th>year</th><th>selling_price</th><th>km_driven</th><th>fuel</th><th>seller_type</th><th>transmission</th><th>owner</th></tr><tr><th></th><th>Int64</th><th>Int64</th><th>Int64</th><th>String</th><th>String</th><th>String</th><th>String</th></tr></thead><tbody><p>4,339 rows × 7 columns</p><tr><th>1</th><td>2007</td><td>135000</td><td>50000</td><td>Petrol</td><td>Individual</td><td>Manual</td><td>First Owner</td></tr><tr><th>2</th><td>2012</td><td>600000</td><td>100000</td><td>Diesel</td><td>Individual</td><td>Manual</td><td>First Owner</td></tr><tr><th>3</th><td>2017</td><td>250000</td><td>46000</td><td>Petrol</td><td>Individual</td><td>Manual</td><td>First Owner</td></tr><tr><th>4</th><td>2014</td><td>450000</td><td>141000</td><td>Diesel</td><td>Individual</td><td>Manual</td><td>Second Owner</td></tr><tr><th>5</th><td>2007</td><td>140000</td><td>125000</td><td>Petrol</td><td>Individual</td><td>Manual</td><td>First Owner</td></tr><tr><th>6</th><td>2016</td><td>550000</td><td>25000</td><td>Petrol</td><td>Individual</td><td>Manual</td><td>First Owner</td></tr><tr><th>7</th><td>2014</td><td>240000</td><td>60000</td><td>Petrol</td><td>Individual</td><td>Manual</td><td>Second Owner</td></tr><tr><th>8</th><td>2015</td><td>850000</td><td>25000</td><td>Petrol</td><td>Individual</td><td>Manual</td><td>First Owner</td></tr><tr><th>9</th><td>2017</td><td>365000</td><td>78000</td><td>CNG</td><td>Individual</td><td>Manual</td><td>First Owner</td></tr><tr><th>10</th><td>2015</td><td>260000</td><td>35000</td><td>Petrol</td><td>Individual</td><td>Manual</td><td>First Owner</td></tr><tr><th>11</th><td>2014</td><td>250000</td><td>100000</td><td>Petrol</td><td>Individual</td><td>Manual</td><td>First Owner</td></tr><tr><th>12</th><td>2018</td><td>1650000</td><td>25000</td><td>Petrol</td><td>Dealer</td><td>Automatic</td><td>First Owner</td></tr><tr><th>13</th><td>2007</td><td>60000</td><td>70000</td><td>Petrol</td><td>Individual</td><td>Manual</td><td>First Owner</td></tr><tr><th>14</th><td>2007</td><td>135000</td><td>50000</td><td>Petrol</td><td>Individual</td><td>Manual</td><td>First Owner</td></tr><tr><th>15</th><td>2012</td><td>600000</td><td>100000</td><td>Diesel</td><td>Individual</td><td>Manual</td><td>First Owner</td></tr><tr><th>16</th><td>2017</td><td>250000</td><td>46000</td><td>Petrol</td><td>Individual</td><td>Manual</td><td>First Owner</td></tr><tr><th>17</th><td>2014</td><td>450000</td><td>141000</td><td>Diesel</td><td>Individual</td><td>Manual</td><td>Second Owner</td></tr><tr><th>18</th><td>2007</td><td>140000</td><td>125000</td><td>Petrol</td><td>Individual</td><td>Manual</td><td>First Owner</td></tr><tr><th>19</th><td>2016</td><td>550000</td><td>25000</td><td>Petrol</td><td>Individual</td><td>Manual</td><td>First Owner</td></tr><tr><th>20</th><td>2014</td><td>240000</td><td>60000</td><td>Petrol</td><td>Individual</td><td>Manual</td><td>Second Owner</td></tr><tr><th>21</th><td>2015</td><td>850000</td><td>25000</td><td>Petrol</td><td>Individual</td><td>Manual</td><td>First Owner</td></tr><tr><th>22</th><td>2017</td><td>365000</td><td>78000</td><td>CNG</td><td>Individual</td><td>Manual</td><td>First Owner</td></tr><tr><th>23</th><td>2015</td><td>260000</td><td>35000</td><td>Petrol</td><td>Individual</td><td>Manual</td><td>First Owner</td></tr><tr><th>24</th><td>2014</td><td>250000</td><td>100000</td><td>Petrol</td><td>Individual</td><td>Manual</td><td>First Owner</td></tr><tr><th>25</th><td>2018</td><td>1650000</td><td>25000</td><td>Petrol</td><td>Dealer</td><td>Automatic</td><td>First Owner</td></tr><tr><th>26</th><td>2015</td><td>585000</td><td>24000</td><td>Petrol</td><td>Dealer</td><td>Manual</td><td>First Owner</td></tr><tr><th>27</th><td>2019</td><td>1195000</td><td>5000</td><td>Diesel</td><td>Dealer</td><td>Manual</td><td>First Owner</td></tr><tr><th>28</th><td>2013</td><td>390000</td><td>33000</td><td>Diesel</td><td>Individual</td><td>Manual</td><td>Second Owner</td></tr><tr><th>29</th><td>2014</td><td>1964999</td><td>28000</td><td>Diesel</td><td>Dealer</td><td>Automatic</td><td>First Owner</td></tr><tr><th>30</th><td>2013</td><td>1425000</td><td>59000</td><td>Diesel</td><td>Dealer</td><td>Automatic</td><td>First Owner</td></tr><tr><th>&vellip;</th><td>&vellip;</td><td>&vellip;</td><td>&vellip;</td><td>&vellip;</td><td>&vellip;</td><td>&vellip;</td><td>&vellip;</td></tr></tbody></table>"
      ],
      "text/latex": [
       "\\begin{tabular}{r|ccccccc}\n",
       "\t& year & selling\\_price & km\\_driven & fuel & seller\\_type & transmission & owner\\\\\n",
       "\t\\hline\n",
       "\t& Int64 & Int64 & Int64 & String & String & String & String\\\\\n",
       "\t\\hline\n",
       "\t1 & 2007 & 135000 & 50000 & Petrol & Individual & Manual & First Owner \\\\\n",
       "\t2 & 2012 & 600000 & 100000 & Diesel & Individual & Manual & First Owner \\\\\n",
       "\t3 & 2017 & 250000 & 46000 & Petrol & Individual & Manual & First Owner \\\\\n",
       "\t4 & 2014 & 450000 & 141000 & Diesel & Individual & Manual & Second Owner \\\\\n",
       "\t5 & 2007 & 140000 & 125000 & Petrol & Individual & Manual & First Owner \\\\\n",
       "\t6 & 2016 & 550000 & 25000 & Petrol & Individual & Manual & First Owner \\\\\n",
       "\t7 & 2014 & 240000 & 60000 & Petrol & Individual & Manual & Second Owner \\\\\n",
       "\t8 & 2015 & 850000 & 25000 & Petrol & Individual & Manual & First Owner \\\\\n",
       "\t9 & 2017 & 365000 & 78000 & CNG & Individual & Manual & First Owner \\\\\n",
       "\t10 & 2015 & 260000 & 35000 & Petrol & Individual & Manual & First Owner \\\\\n",
       "\t11 & 2014 & 250000 & 100000 & Petrol & Individual & Manual & First Owner \\\\\n",
       "\t12 & 2018 & 1650000 & 25000 & Petrol & Dealer & Automatic & First Owner \\\\\n",
       "\t13 & 2007 & 60000 & 70000 & Petrol & Individual & Manual & First Owner \\\\\n",
       "\t14 & 2007 & 135000 & 50000 & Petrol & Individual & Manual & First Owner \\\\\n",
       "\t15 & 2012 & 600000 & 100000 & Diesel & Individual & Manual & First Owner \\\\\n",
       "\t16 & 2017 & 250000 & 46000 & Petrol & Individual & Manual & First Owner \\\\\n",
       "\t17 & 2014 & 450000 & 141000 & Diesel & Individual & Manual & Second Owner \\\\\n",
       "\t18 & 2007 & 140000 & 125000 & Petrol & Individual & Manual & First Owner \\\\\n",
       "\t19 & 2016 & 550000 & 25000 & Petrol & Individual & Manual & First Owner \\\\\n",
       "\t20 & 2014 & 240000 & 60000 & Petrol & Individual & Manual & Second Owner \\\\\n",
       "\t21 & 2015 & 850000 & 25000 & Petrol & Individual & Manual & First Owner \\\\\n",
       "\t22 & 2017 & 365000 & 78000 & CNG & Individual & Manual & First Owner \\\\\n",
       "\t23 & 2015 & 260000 & 35000 & Petrol & Individual & Manual & First Owner \\\\\n",
       "\t24 & 2014 & 250000 & 100000 & Petrol & Individual & Manual & First Owner \\\\\n",
       "\t25 & 2018 & 1650000 & 25000 & Petrol & Dealer & Automatic & First Owner \\\\\n",
       "\t26 & 2015 & 585000 & 24000 & Petrol & Dealer & Manual & First Owner \\\\\n",
       "\t27 & 2019 & 1195000 & 5000 & Diesel & Dealer & Manual & First Owner \\\\\n",
       "\t28 & 2013 & 390000 & 33000 & Diesel & Individual & Manual & Second Owner \\\\\n",
       "\t29 & 2014 & 1964999 & 28000 & Diesel & Dealer & Automatic & First Owner \\\\\n",
       "\t30 & 2013 & 1425000 & 59000 & Diesel & Dealer & Automatic & First Owner \\\\\n",
       "\t$\\dots$ & $\\dots$ & $\\dots$ & $\\dots$ & $\\dots$ & $\\dots$ & $\\dots$ & $\\dots$ \\\\\n",
       "\\end{tabular}\n"
      ],
      "text/plain": [
       "4339×7 DataFrame. Omitted printing of 2 columns\n",
       "│ Row  │ year  │ selling_price │ km_driven │ fuel   │ seller_type │\n",
       "│      │ \u001b[90mInt64\u001b[39m │ \u001b[90mInt64\u001b[39m         │ \u001b[90mInt64\u001b[39m     │ \u001b[90mString\u001b[39m │ \u001b[90mString\u001b[39m      │\n",
       "├──────┼───────┼───────────────┼───────────┼────────┼─────────────┤\n",
       "│ 1    │ 2007  │ 135000        │ 50000     │ Petrol │ Individual  │\n",
       "│ 2    │ 2012  │ 600000        │ 100000    │ Diesel │ Individual  │\n",
       "│ 3    │ 2017  │ 250000        │ 46000     │ Petrol │ Individual  │\n",
       "│ 4    │ 2014  │ 450000        │ 141000    │ Diesel │ Individual  │\n",
       "│ 5    │ 2007  │ 140000        │ 125000    │ Petrol │ Individual  │\n",
       "│ 6    │ 2016  │ 550000        │ 25000     │ Petrol │ Individual  │\n",
       "│ 7    │ 2014  │ 240000        │ 60000     │ Petrol │ Individual  │\n",
       "│ 8    │ 2015  │ 850000        │ 25000     │ Petrol │ Individual  │\n",
       "│ 9    │ 2017  │ 365000        │ 78000     │ CNG    │ Individual  │\n",
       "│ 10   │ 2015  │ 260000        │ 35000     │ Petrol │ Individual  │\n",
       "⋮\n",
       "│ 4329 │ 2010  │ 160000        │ 60000     │ Petrol │ Individual  │\n",
       "│ 4330 │ 2010  │ 150000        │ 130000    │ Diesel │ Individual  │\n",
       "│ 4331 │ 2015  │ 530000        │ 175000    │ Diesel │ Individual  │\n",
       "│ 4332 │ 2015  │ 750000        │ 120000    │ Diesel │ Individual  │\n",
       "│ 4333 │ 2012  │ 225000        │ 90000     │ Diesel │ Individual  │\n",
       "│ 4334 │ 2012  │ 600000        │ 170000    │ Diesel │ Individual  │\n",
       "│ 4335 │ 2014  │ 409999        │ 80000     │ Diesel │ Individual  │\n",
       "│ 4336 │ 2014  │ 409999        │ 80000     │ Diesel │ Individual  │\n",
       "│ 4337 │ 2009  │ 110000        │ 83000     │ Petrol │ Individual  │\n",
       "│ 4338 │ 2016  │ 865000        │ 90000     │ Diesel │ Individual  │\n",
       "│ 4339 │ 2016  │ 225000        │ 40000     │ Petrol │ Individual  │"
      ]
     },
     "execution_count": 78,
     "metadata": {},
     "output_type": "execute_result"
    }
   ],
   "source": [
    "df = CSV.read(\"test/dataset.csv\")\n",
    "#\"name\" diabaikan karena terlalu beragam\n",
    "df = df[2:size(df,1), 2:size(df,2)]\n",
    "df"
   ]
  },
  {
   "cell_type": "code",
   "execution_count": 31,
   "metadata": {},
   "outputs": [
    {
     "data": {
      "text/html": [
       "<table class=\"data-frame\"><thead><tr><th></th><th>year</th><th>selling_price</th><th>km_driven</th><th>fuel</th><th>seller_type</th><th>transmission</th><th>owner</th></tr><tr><th></th><th>Int64</th><th>Int64</th><th>Int64</th><th>String</th><th>String</th><th>String</th><th>String</th></tr></thead><tbody><p>4,339 rows × 7 columns</p><tr><th>1</th><td>2005</td><td>20000</td><td>25000</td><td>Petrol</td><td>Individual</td><td>Manual</td><td>Second Owner</td></tr><tr><th>2</th><td>2000</td><td>22000</td><td>42743</td><td>Petrol</td><td>Dealer</td><td>Manual</td><td>Third Owner</td></tr><tr><th>3</th><td>2004</td><td>30000</td><td>60000</td><td>Petrol</td><td>Individual</td><td>Manual</td><td>Third Owner</td></tr><tr><th>4</th><td>2002</td><td>35000</td><td>100000</td><td>Petrol</td><td>Individual</td><td>Manual</td><td>Third Owner</td></tr><tr><th>5</th><td>2009</td><td>35000</td><td>50000</td><td>Petrol</td><td>Individual</td><td>Manual</td><td>Third Owner</td></tr><tr><th>6</th><td>2012</td><td>35000</td><td>35000</td><td>Petrol</td><td>Individual</td><td>Manual</td><td>Third Owner</td></tr><tr><th>7</th><td>2004</td><td>37500</td><td>90000</td><td>Petrol</td><td>Individual</td><td>Manual</td><td>Second Owner</td></tr><tr><th>8</th><td>1998</td><td>40000</td><td>40000</td><td>Petrol</td><td>Individual</td><td>Manual</td><td>Fourth &amp; Above Owner</td></tr><tr><th>9</th><td>1998</td><td>40000</td><td>40000</td><td>Petrol</td><td>Individual</td><td>Manual</td><td>Fourth &amp; Above Owner</td></tr><tr><th>10</th><td>2001</td><td>40000</td><td>30000</td><td>Petrol</td><td>Individual</td><td>Manual</td><td>First Owner</td></tr><tr><th>11</th><td>2004</td><td>40000</td><td>69111</td><td>Petrol</td><td>Individual</td><td>Manual</td><td>Third Owner</td></tr><tr><th>12</th><td>2010</td><td>40000</td><td>90000</td><td>Petrol</td><td>Individual</td><td>Manual</td><td>First Owner</td></tr><tr><th>13</th><td>2011</td><td>40000</td><td>19000</td><td>Petrol</td><td>Individual</td><td>Manual</td><td>First Owner</td></tr><tr><th>14</th><td>1998</td><td>42000</td><td>70000</td><td>Petrol</td><td>Individual</td><td>Manual</td><td>Third Owner</td></tr><tr><th>15</th><td>1998</td><td>42000</td><td>70000</td><td>Petrol</td><td>Individual</td><td>Manual</td><td>Third Owner</td></tr><tr><th>16</th><td>2001</td><td>43000</td><td>100000</td><td>Petrol</td><td>Individual</td><td>Manual</td><td>Second Owner</td></tr><tr><th>17</th><td>1999</td><td>45000</td><td>50000</td><td>Petrol</td><td>Individual</td><td>Manual</td><td>Third Owner</td></tr><tr><th>18</th><td>2001</td><td>45000</td><td>72539</td><td>Petrol</td><td>Individual</td><td>Manual</td><td>Second Owner</td></tr><tr><th>19</th><td>2004</td><td>45000</td><td>60000</td><td>Petrol</td><td>Individual</td><td>Manual</td><td>First Owner</td></tr><tr><th>20</th><td>2006</td><td>45000</td><td>120000</td><td>Diesel</td><td>Individual</td><td>Manual</td><td>Second Owner</td></tr><tr><th>21</th><td>2007</td><td>45000</td><td>100000</td><td>CNG</td><td>Individual</td><td>Manual</td><td>Fourth &amp; Above Owner</td></tr><tr><th>22</th><td>2012</td><td>45000</td><td>35000</td><td>Petrol</td><td>Individual</td><td>Manual</td><td>Second Owner</td></tr><tr><th>23</th><td>2014</td><td>45000</td><td>7000</td><td>Petrol</td><td>Individual</td><td>Manual</td><td>Second Owner</td></tr><tr><th>24</th><td>2014</td><td>45000</td><td>7000</td><td>Petrol</td><td>Individual</td><td>Manual</td><td>Second Owner</td></tr><tr><th>25</th><td>2003</td><td>48000</td><td>50000</td><td>Petrol</td><td>Individual</td><td>Manual</td><td>Fourth &amp; Above Owner</td></tr><tr><th>26</th><td>1992</td><td>50000</td><td>100000</td><td>Petrol</td><td>Individual</td><td>Manual</td><td>Fourth &amp; Above Owner</td></tr><tr><th>27</th><td>1997</td><td>50000</td><td>80000</td><td>Petrol</td><td>Individual</td><td>Manual</td><td>Second Owner</td></tr><tr><th>28</th><td>1998</td><td>50000</td><td>35000</td><td>LPG</td><td>Individual</td><td>Manual</td><td>Second Owner</td></tr><tr><th>29</th><td>1999</td><td>50000</td><td>100000</td><td>Petrol</td><td>Individual</td><td>Manual</td><td>Second Owner</td></tr><tr><th>30</th><td>1999</td><td>50000</td><td>120000</td><td>Petrol</td><td>Individual</td><td>Manual</td><td>Second Owner</td></tr><tr><th>&vellip;</th><td>&vellip;</td><td>&vellip;</td><td>&vellip;</td><td>&vellip;</td><td>&vellip;</td><td>&vellip;</td><td>&vellip;</td></tr></tbody></table>"
      ],
      "text/latex": [
       "\\begin{tabular}{r|ccccccc}\n",
       "\t& year & selling\\_price & km\\_driven & fuel & seller\\_type & transmission & owner\\\\\n",
       "\t\\hline\n",
       "\t& Int64 & Int64 & Int64 & String & String & String & String\\\\\n",
       "\t\\hline\n",
       "\t1 & 2005 & 20000 & 25000 & Petrol & Individual & Manual & Second Owner \\\\\n",
       "\t2 & 2000 & 22000 & 42743 & Petrol & Dealer & Manual & Third Owner \\\\\n",
       "\t3 & 2004 & 30000 & 60000 & Petrol & Individual & Manual & Third Owner \\\\\n",
       "\t4 & 2002 & 35000 & 100000 & Petrol & Individual & Manual & Third Owner \\\\\n",
       "\t5 & 2009 & 35000 & 50000 & Petrol & Individual & Manual & Third Owner \\\\\n",
       "\t6 & 2012 & 35000 & 35000 & Petrol & Individual & Manual & Third Owner \\\\\n",
       "\t7 & 2004 & 37500 & 90000 & Petrol & Individual & Manual & Second Owner \\\\\n",
       "\t8 & 1998 & 40000 & 40000 & Petrol & Individual & Manual & Fourth \\& Above Owner \\\\\n",
       "\t9 & 1998 & 40000 & 40000 & Petrol & Individual & Manual & Fourth \\& Above Owner \\\\\n",
       "\t10 & 2001 & 40000 & 30000 & Petrol & Individual & Manual & First Owner \\\\\n",
       "\t11 & 2004 & 40000 & 69111 & Petrol & Individual & Manual & Third Owner \\\\\n",
       "\t12 & 2010 & 40000 & 90000 & Petrol & Individual & Manual & First Owner \\\\\n",
       "\t13 & 2011 & 40000 & 19000 & Petrol & Individual & Manual & First Owner \\\\\n",
       "\t14 & 1998 & 42000 & 70000 & Petrol & Individual & Manual & Third Owner \\\\\n",
       "\t15 & 1998 & 42000 & 70000 & Petrol & Individual & Manual & Third Owner \\\\\n",
       "\t16 & 2001 & 43000 & 100000 & Petrol & Individual & Manual & Second Owner \\\\\n",
       "\t17 & 1999 & 45000 & 50000 & Petrol & Individual & Manual & Third Owner \\\\\n",
       "\t18 & 2001 & 45000 & 72539 & Petrol & Individual & Manual & Second Owner \\\\\n",
       "\t19 & 2004 & 45000 & 60000 & Petrol & Individual & Manual & First Owner \\\\\n",
       "\t20 & 2006 & 45000 & 120000 & Diesel & Individual & Manual & Second Owner \\\\\n",
       "\t21 & 2007 & 45000 & 100000 & CNG & Individual & Manual & Fourth \\& Above Owner \\\\\n",
       "\t22 & 2012 & 45000 & 35000 & Petrol & Individual & Manual & Second Owner \\\\\n",
       "\t23 & 2014 & 45000 & 7000 & Petrol & Individual & Manual & Second Owner \\\\\n",
       "\t24 & 2014 & 45000 & 7000 & Petrol & Individual & Manual & Second Owner \\\\\n",
       "\t25 & 2003 & 48000 & 50000 & Petrol & Individual & Manual & Fourth \\& Above Owner \\\\\n",
       "\t26 & 1992 & 50000 & 100000 & Petrol & Individual & Manual & Fourth \\& Above Owner \\\\\n",
       "\t27 & 1997 & 50000 & 80000 & Petrol & Individual & Manual & Second Owner \\\\\n",
       "\t28 & 1998 & 50000 & 35000 & LPG & Individual & Manual & Second Owner \\\\\n",
       "\t29 & 1999 & 50000 & 100000 & Petrol & Individual & Manual & Second Owner \\\\\n",
       "\t30 & 1999 & 50000 & 120000 & Petrol & Individual & Manual & Second Owner \\\\\n",
       "\t$\\dots$ & $\\dots$ & $\\dots$ & $\\dots$ & $\\dots$ & $\\dots$ & $\\dots$ & $\\dots$ \\\\\n",
       "\\end{tabular}\n"
      ],
      "text/plain": [
       "4339×7 DataFrame. Omitted printing of 2 columns\n",
       "│ Row  │ year  │ selling_price │ km_driven │ fuel   │ seller_type │\n",
       "│      │ \u001b[90mInt64\u001b[39m │ \u001b[90mInt64\u001b[39m         │ \u001b[90mInt64\u001b[39m     │ \u001b[90mString\u001b[39m │ \u001b[90mString\u001b[39m      │\n",
       "├──────┼───────┼───────────────┼───────────┼────────┼─────────────┤\n",
       "│ 1    │ 2005  │ 20000         │ 25000     │ Petrol │ Individual  │\n",
       "│ 2    │ 2000  │ 22000         │ 42743     │ Petrol │ Dealer      │\n",
       "│ 3    │ 2004  │ 30000         │ 60000     │ Petrol │ Individual  │\n",
       "│ 4    │ 2002  │ 35000         │ 100000    │ Petrol │ Individual  │\n",
       "│ 5    │ 2009  │ 35000         │ 50000     │ Petrol │ Individual  │\n",
       "│ 6    │ 2012  │ 35000         │ 35000     │ Petrol │ Individual  │\n",
       "│ 7    │ 2004  │ 37500         │ 90000     │ Petrol │ Individual  │\n",
       "│ 8    │ 1998  │ 40000         │ 40000     │ Petrol │ Individual  │\n",
       "│ 9    │ 1998  │ 40000         │ 40000     │ Petrol │ Individual  │\n",
       "│ 10   │ 2001  │ 40000         │ 30000     │ Petrol │ Individual  │\n",
       "⋮\n",
       "│ 4329 │ 2019  │ 4950000       │ 30000     │ Diesel │ Dealer      │\n",
       "│ 4330 │ 2019  │ 4950000       │ 30000     │ Diesel │ Dealer      │\n",
       "│ 4331 │ 2019  │ 4950000       │ 30000     │ Diesel │ Dealer      │\n",
       "│ 4332 │ 2019  │ 4950000       │ 30000     │ Diesel │ Dealer      │\n",
       "│ 4333 │ 2019  │ 4950000       │ 30000     │ Diesel │ Dealer      │\n",
       "│ 4334 │ 2019  │ 4950000       │ 30000     │ Diesel │ Dealer      │\n",
       "│ 4335 │ 2019  │ 4950000       │ 30000     │ Diesel │ Dealer      │\n",
       "│ 4336 │ 2019  │ 4950000       │ 30000     │ Diesel │ Dealer      │\n",
       "│ 4337 │ 2016  │ 5500000       │ 77350     │ Diesel │ Dealer      │\n",
       "│ 4338 │ 2017  │ 8150000       │ 6500      │ Diesel │ Dealer      │\n",
       "│ 4339 │ 2016  │ 8900000       │ 13000     │ Petrol │ Dealer      │"
      ]
     },
     "execution_count": 31,
     "metadata": {},
     "output_type": "execute_result"
    }
   ],
   "source": [
    "#mengurutkan data sesuai harganya agar pengubahan kolom kategorikal ke numerik\n",
    "#dapat menjadi lebih tepat\n",
    "sorted = sort!(df, :selling_price)\n",
    "sorted"
   ]
  },
  {
   "cell_type": "code",
   "execution_count": 35,
   "metadata": {},
   "outputs": [
    {
     "data": {
      "text/html": [
       "<table class=\"data-frame\"><thead><tr><th></th><th>year</th><th>selling_price</th><th>km_driven</th><th>fuel</th><th>seller_type</th><th>transmission</th><th>owner</th></tr><tr><th></th><th>Int64</th><th>Int64</th><th>Int64</th><th>String</th><th>String</th><th>String</th><th>String</th></tr></thead><tbody><p>100 rows × 7 columns</p><tr><th>1</th><td>2005</td><td>20000</td><td>25000</td><td>Petrol</td><td>Individual</td><td>Manual</td><td>Second Owner</td></tr><tr><th>2</th><td>2000</td><td>22000</td><td>42743</td><td>Petrol</td><td>Dealer</td><td>Manual</td><td>Third Owner</td></tr><tr><th>3</th><td>2004</td><td>30000</td><td>60000</td><td>Petrol</td><td>Individual</td><td>Manual</td><td>Third Owner</td></tr><tr><th>4</th><td>2002</td><td>35000</td><td>100000</td><td>Petrol</td><td>Individual</td><td>Manual</td><td>Third Owner</td></tr><tr><th>5</th><td>2009</td><td>35000</td><td>50000</td><td>Petrol</td><td>Individual</td><td>Manual</td><td>Third Owner</td></tr><tr><th>6</th><td>2012</td><td>35000</td><td>35000</td><td>Petrol</td><td>Individual</td><td>Manual</td><td>Third Owner</td></tr><tr><th>7</th><td>2004</td><td>37500</td><td>90000</td><td>Petrol</td><td>Individual</td><td>Manual</td><td>Second Owner</td></tr><tr><th>8</th><td>1998</td><td>40000</td><td>40000</td><td>Petrol</td><td>Individual</td><td>Manual</td><td>Fourth &amp; Above Owner</td></tr><tr><th>9</th><td>1998</td><td>40000</td><td>40000</td><td>Petrol</td><td>Individual</td><td>Manual</td><td>Fourth &amp; Above Owner</td></tr><tr><th>10</th><td>2001</td><td>40000</td><td>30000</td><td>Petrol</td><td>Individual</td><td>Manual</td><td>First Owner</td></tr><tr><th>11</th><td>2004</td><td>40000</td><td>69111</td><td>Petrol</td><td>Individual</td><td>Manual</td><td>Third Owner</td></tr><tr><th>12</th><td>2010</td><td>40000</td><td>90000</td><td>Petrol</td><td>Individual</td><td>Manual</td><td>First Owner</td></tr><tr><th>13</th><td>2011</td><td>40000</td><td>19000</td><td>Petrol</td><td>Individual</td><td>Manual</td><td>First Owner</td></tr><tr><th>14</th><td>1998</td><td>42000</td><td>70000</td><td>Petrol</td><td>Individual</td><td>Manual</td><td>Third Owner</td></tr><tr><th>15</th><td>1998</td><td>42000</td><td>70000</td><td>Petrol</td><td>Individual</td><td>Manual</td><td>Third Owner</td></tr><tr><th>16</th><td>2001</td><td>43000</td><td>100000</td><td>Petrol</td><td>Individual</td><td>Manual</td><td>Second Owner</td></tr><tr><th>17</th><td>1999</td><td>45000</td><td>50000</td><td>Petrol</td><td>Individual</td><td>Manual</td><td>Third Owner</td></tr><tr><th>18</th><td>2001</td><td>45000</td><td>72539</td><td>Petrol</td><td>Individual</td><td>Manual</td><td>Second Owner</td></tr><tr><th>19</th><td>2004</td><td>45000</td><td>60000</td><td>Petrol</td><td>Individual</td><td>Manual</td><td>First Owner</td></tr><tr><th>20</th><td>2006</td><td>45000</td><td>120000</td><td>Diesel</td><td>Individual</td><td>Manual</td><td>Second Owner</td></tr><tr><th>21</th><td>2007</td><td>45000</td><td>100000</td><td>CNG</td><td>Individual</td><td>Manual</td><td>Fourth &amp; Above Owner</td></tr><tr><th>22</th><td>2012</td><td>45000</td><td>35000</td><td>Petrol</td><td>Individual</td><td>Manual</td><td>Second Owner</td></tr><tr><th>23</th><td>2014</td><td>45000</td><td>7000</td><td>Petrol</td><td>Individual</td><td>Manual</td><td>Second Owner</td></tr><tr><th>24</th><td>2014</td><td>45000</td><td>7000</td><td>Petrol</td><td>Individual</td><td>Manual</td><td>Second Owner</td></tr><tr><th>25</th><td>2003</td><td>48000</td><td>50000</td><td>Petrol</td><td>Individual</td><td>Manual</td><td>Fourth &amp; Above Owner</td></tr><tr><th>26</th><td>1992</td><td>50000</td><td>100000</td><td>Petrol</td><td>Individual</td><td>Manual</td><td>Fourth &amp; Above Owner</td></tr><tr><th>27</th><td>1997</td><td>50000</td><td>80000</td><td>Petrol</td><td>Individual</td><td>Manual</td><td>Second Owner</td></tr><tr><th>28</th><td>1998</td><td>50000</td><td>35000</td><td>LPG</td><td>Individual</td><td>Manual</td><td>Second Owner</td></tr><tr><th>29</th><td>1999</td><td>50000</td><td>100000</td><td>Petrol</td><td>Individual</td><td>Manual</td><td>Second Owner</td></tr><tr><th>30</th><td>1999</td><td>50000</td><td>120000</td><td>Petrol</td><td>Individual</td><td>Manual</td><td>Second Owner</td></tr><tr><th>&vellip;</th><td>&vellip;</td><td>&vellip;</td><td>&vellip;</td><td>&vellip;</td><td>&vellip;</td><td>&vellip;</td><td>&vellip;</td></tr></tbody></table>"
      ],
      "text/latex": [
       "\\begin{tabular}{r|ccccccc}\n",
       "\t& year & selling\\_price & km\\_driven & fuel & seller\\_type & transmission & owner\\\\\n",
       "\t\\hline\n",
       "\t& Int64 & Int64 & Int64 & String & String & String & String\\\\\n",
       "\t\\hline\n",
       "\t1 & 2005 & 20000 & 25000 & Petrol & Individual & Manual & Second Owner \\\\\n",
       "\t2 & 2000 & 22000 & 42743 & Petrol & Dealer & Manual & Third Owner \\\\\n",
       "\t3 & 2004 & 30000 & 60000 & Petrol & Individual & Manual & Third Owner \\\\\n",
       "\t4 & 2002 & 35000 & 100000 & Petrol & Individual & Manual & Third Owner \\\\\n",
       "\t5 & 2009 & 35000 & 50000 & Petrol & Individual & Manual & Third Owner \\\\\n",
       "\t6 & 2012 & 35000 & 35000 & Petrol & Individual & Manual & Third Owner \\\\\n",
       "\t7 & 2004 & 37500 & 90000 & Petrol & Individual & Manual & Second Owner \\\\\n",
       "\t8 & 1998 & 40000 & 40000 & Petrol & Individual & Manual & Fourth \\& Above Owner \\\\\n",
       "\t9 & 1998 & 40000 & 40000 & Petrol & Individual & Manual & Fourth \\& Above Owner \\\\\n",
       "\t10 & 2001 & 40000 & 30000 & Petrol & Individual & Manual & First Owner \\\\\n",
       "\t11 & 2004 & 40000 & 69111 & Petrol & Individual & Manual & Third Owner \\\\\n",
       "\t12 & 2010 & 40000 & 90000 & Petrol & Individual & Manual & First Owner \\\\\n",
       "\t13 & 2011 & 40000 & 19000 & Petrol & Individual & Manual & First Owner \\\\\n",
       "\t14 & 1998 & 42000 & 70000 & Petrol & Individual & Manual & Third Owner \\\\\n",
       "\t15 & 1998 & 42000 & 70000 & Petrol & Individual & Manual & Third Owner \\\\\n",
       "\t16 & 2001 & 43000 & 100000 & Petrol & Individual & Manual & Second Owner \\\\\n",
       "\t17 & 1999 & 45000 & 50000 & Petrol & Individual & Manual & Third Owner \\\\\n",
       "\t18 & 2001 & 45000 & 72539 & Petrol & Individual & Manual & Second Owner \\\\\n",
       "\t19 & 2004 & 45000 & 60000 & Petrol & Individual & Manual & First Owner \\\\\n",
       "\t20 & 2006 & 45000 & 120000 & Diesel & Individual & Manual & Second Owner \\\\\n",
       "\t21 & 2007 & 45000 & 100000 & CNG & Individual & Manual & Fourth \\& Above Owner \\\\\n",
       "\t22 & 2012 & 45000 & 35000 & Petrol & Individual & Manual & Second Owner \\\\\n",
       "\t23 & 2014 & 45000 & 7000 & Petrol & Individual & Manual & Second Owner \\\\\n",
       "\t24 & 2014 & 45000 & 7000 & Petrol & Individual & Manual & Second Owner \\\\\n",
       "\t25 & 2003 & 48000 & 50000 & Petrol & Individual & Manual & Fourth \\& Above Owner \\\\\n",
       "\t26 & 1992 & 50000 & 100000 & Petrol & Individual & Manual & Fourth \\& Above Owner \\\\\n",
       "\t27 & 1997 & 50000 & 80000 & Petrol & Individual & Manual & Second Owner \\\\\n",
       "\t28 & 1998 & 50000 & 35000 & LPG & Individual & Manual & Second Owner \\\\\n",
       "\t29 & 1999 & 50000 & 100000 & Petrol & Individual & Manual & Second Owner \\\\\n",
       "\t30 & 1999 & 50000 & 120000 & Petrol & Individual & Manual & Second Owner \\\\\n",
       "\t$\\dots$ & $\\dots$ & $\\dots$ & $\\dots$ & $\\dots$ & $\\dots$ & $\\dots$ & $\\dots$ \\\\\n",
       "\\end{tabular}\n"
      ],
      "text/plain": [
       "100×7 DataFrame. Omitted printing of 2 columns\n",
       "│ Row │ year  │ selling_price │ km_driven │ fuel   │ seller_type │\n",
       "│     │ \u001b[90mInt64\u001b[39m │ \u001b[90mInt64\u001b[39m         │ \u001b[90mInt64\u001b[39m     │ \u001b[90mString\u001b[39m │ \u001b[90mString\u001b[39m      │\n",
       "├─────┼───────┼───────────────┼───────────┼────────┼─────────────┤\n",
       "│ 1   │ 2005  │ 20000         │ 25000     │ Petrol │ Individual  │\n",
       "│ 2   │ 2000  │ 22000         │ 42743     │ Petrol │ Dealer      │\n",
       "│ 3   │ 2004  │ 30000         │ 60000     │ Petrol │ Individual  │\n",
       "│ 4   │ 2002  │ 35000         │ 100000    │ Petrol │ Individual  │\n",
       "│ 5   │ 2009  │ 35000         │ 50000     │ Petrol │ Individual  │\n",
       "│ 6   │ 2012  │ 35000         │ 35000     │ Petrol │ Individual  │\n",
       "│ 7   │ 2004  │ 37500         │ 90000     │ Petrol │ Individual  │\n",
       "│ 8   │ 1998  │ 40000         │ 40000     │ Petrol │ Individual  │\n",
       "│ 9   │ 1998  │ 40000         │ 40000     │ Petrol │ Individual  │\n",
       "│ 10  │ 2001  │ 40000         │ 30000     │ Petrol │ Individual  │\n",
       "⋮\n",
       "│ 90  │ 2002  │ 65000         │ 100000    │ Petrol │ Individual  │\n",
       "│ 91  │ 2005  │ 65000         │ 70000     │ Petrol │ Individual  │\n",
       "│ 92  │ 2005  │ 65000         │ 70000     │ Petrol │ Individual  │\n",
       "│ 93  │ 2005  │ 65000         │ 150000    │ Petrol │ Individual  │\n",
       "│ 94  │ 2006  │ 65000         │ 124439    │ Petrol │ Individual  │\n",
       "│ 95  │ 2008  │ 65000         │ 110000    │ Petrol │ Individual  │\n",
       "│ 96  │ 2008  │ 65000         │ 140000    │ Petrol │ Individual  │\n",
       "│ 97  │ 2011  │ 65000         │ 60000     │ Petrol │ Individual  │\n",
       "│ 98  │ 2001  │ 68000         │ 70000     │ Petrol │ Individual  │\n",
       "│ 99  │ 2001  │ 68000         │ 70000     │ Petrol │ Individual  │\n",
       "│ 100 │ 2009  │ 68000         │ 120000    │ Petrol │ Individual  │"
      ]
     },
     "execution_count": 35,
     "metadata": {},
     "output_type": "execute_result"
    }
   ],
   "source": [
    "#Mengambil data train\n",
    "train = sorted[1:100, :]\n"
   ]
  },
  {
   "cell_type": "code",
   "execution_count": 46,
   "metadata": {},
   "outputs": [
    {
     "data": {
      "text/html": [
       "<table class=\"data-frame\"><thead><tr><th></th><th>year</th><th>selling_price</th><th>km_driven</th><th>fuel</th><th>seller_type</th><th>transmission</th><th>owner</th></tr><tr><th></th><th>Int64</th><th>Int64</th><th>Int64</th><th>String</th><th>String</th><th>String</th><th>String</th></tr></thead><tbody><p>100 rows × 7 columns</p><tr><th>1</th><td>2005</td><td>20000</td><td>25000</td><td>1</td><td>1</td><td>1</td><td>1</td></tr><tr><th>2</th><td>2000</td><td>22000</td><td>42743</td><td>1</td><td>2</td><td>1</td><td>2</td></tr><tr><th>3</th><td>2004</td><td>30000</td><td>60000</td><td>1</td><td>1</td><td>1</td><td>2</td></tr><tr><th>4</th><td>2002</td><td>35000</td><td>100000</td><td>1</td><td>1</td><td>1</td><td>2</td></tr><tr><th>5</th><td>2009</td><td>35000</td><td>50000</td><td>1</td><td>1</td><td>1</td><td>2</td></tr><tr><th>6</th><td>2012</td><td>35000</td><td>35000</td><td>1</td><td>1</td><td>1</td><td>2</td></tr><tr><th>7</th><td>2004</td><td>37500</td><td>90000</td><td>1</td><td>1</td><td>1</td><td>1</td></tr><tr><th>8</th><td>1998</td><td>40000</td><td>40000</td><td>1</td><td>1</td><td>1</td><td>3</td></tr><tr><th>9</th><td>1998</td><td>40000</td><td>40000</td><td>1</td><td>1</td><td>1</td><td>3</td></tr><tr><th>10</th><td>2001</td><td>40000</td><td>30000</td><td>1</td><td>1</td><td>1</td><td>4</td></tr><tr><th>11</th><td>2004</td><td>40000</td><td>69111</td><td>1</td><td>1</td><td>1</td><td>2</td></tr><tr><th>12</th><td>2010</td><td>40000</td><td>90000</td><td>1</td><td>1</td><td>1</td><td>4</td></tr><tr><th>13</th><td>2011</td><td>40000</td><td>19000</td><td>1</td><td>1</td><td>1</td><td>4</td></tr><tr><th>14</th><td>1998</td><td>42000</td><td>70000</td><td>1</td><td>1</td><td>1</td><td>2</td></tr><tr><th>15</th><td>1998</td><td>42000</td><td>70000</td><td>1</td><td>1</td><td>1</td><td>2</td></tr><tr><th>16</th><td>2001</td><td>43000</td><td>100000</td><td>1</td><td>1</td><td>1</td><td>1</td></tr><tr><th>17</th><td>1999</td><td>45000</td><td>50000</td><td>1</td><td>1</td><td>1</td><td>2</td></tr><tr><th>18</th><td>2001</td><td>45000</td><td>72539</td><td>1</td><td>1</td><td>1</td><td>1</td></tr><tr><th>19</th><td>2004</td><td>45000</td><td>60000</td><td>1</td><td>1</td><td>1</td><td>4</td></tr><tr><th>20</th><td>2006</td><td>45000</td><td>120000</td><td>2</td><td>1</td><td>1</td><td>1</td></tr><tr><th>21</th><td>2007</td><td>45000</td><td>100000</td><td>3</td><td>1</td><td>1</td><td>3</td></tr><tr><th>22</th><td>2012</td><td>45000</td><td>35000</td><td>1</td><td>1</td><td>1</td><td>1</td></tr><tr><th>23</th><td>2014</td><td>45000</td><td>7000</td><td>1</td><td>1</td><td>1</td><td>1</td></tr><tr><th>24</th><td>2014</td><td>45000</td><td>7000</td><td>1</td><td>1</td><td>1</td><td>1</td></tr><tr><th>25</th><td>2003</td><td>48000</td><td>50000</td><td>1</td><td>1</td><td>1</td><td>3</td></tr><tr><th>26</th><td>1992</td><td>50000</td><td>100000</td><td>1</td><td>1</td><td>1</td><td>3</td></tr><tr><th>27</th><td>1997</td><td>50000</td><td>80000</td><td>1</td><td>1</td><td>1</td><td>1</td></tr><tr><th>28</th><td>1998</td><td>50000</td><td>35000</td><td>4</td><td>1</td><td>1</td><td>1</td></tr><tr><th>29</th><td>1999</td><td>50000</td><td>100000</td><td>1</td><td>1</td><td>1</td><td>1</td></tr><tr><th>30</th><td>1999</td><td>50000</td><td>120000</td><td>1</td><td>1</td><td>1</td><td>1</td></tr><tr><th>&vellip;</th><td>&vellip;</td><td>&vellip;</td><td>&vellip;</td><td>&vellip;</td><td>&vellip;</td><td>&vellip;</td><td>&vellip;</td></tr></tbody></table>"
      ],
      "text/latex": [
       "\\begin{tabular}{r|ccccccc}\n",
       "\t& year & selling\\_price & km\\_driven & fuel & seller\\_type & transmission & owner\\\\\n",
       "\t\\hline\n",
       "\t& Int64 & Int64 & Int64 & String & String & String & String\\\\\n",
       "\t\\hline\n",
       "\t1 & 2005 & 20000 & 25000 & 1 & 1 & 1 & 1 \\\\\n",
       "\t2 & 2000 & 22000 & 42743 & 1 & 2 & 1 & 2 \\\\\n",
       "\t3 & 2004 & 30000 & 60000 & 1 & 1 & 1 & 2 \\\\\n",
       "\t4 & 2002 & 35000 & 100000 & 1 & 1 & 1 & 2 \\\\\n",
       "\t5 & 2009 & 35000 & 50000 & 1 & 1 & 1 & 2 \\\\\n",
       "\t6 & 2012 & 35000 & 35000 & 1 & 1 & 1 & 2 \\\\\n",
       "\t7 & 2004 & 37500 & 90000 & 1 & 1 & 1 & 1 \\\\\n",
       "\t8 & 1998 & 40000 & 40000 & 1 & 1 & 1 & 3 \\\\\n",
       "\t9 & 1998 & 40000 & 40000 & 1 & 1 & 1 & 3 \\\\\n",
       "\t10 & 2001 & 40000 & 30000 & 1 & 1 & 1 & 4 \\\\\n",
       "\t11 & 2004 & 40000 & 69111 & 1 & 1 & 1 & 2 \\\\\n",
       "\t12 & 2010 & 40000 & 90000 & 1 & 1 & 1 & 4 \\\\\n",
       "\t13 & 2011 & 40000 & 19000 & 1 & 1 & 1 & 4 \\\\\n",
       "\t14 & 1998 & 42000 & 70000 & 1 & 1 & 1 & 2 \\\\\n",
       "\t15 & 1998 & 42000 & 70000 & 1 & 1 & 1 & 2 \\\\\n",
       "\t16 & 2001 & 43000 & 100000 & 1 & 1 & 1 & 1 \\\\\n",
       "\t17 & 1999 & 45000 & 50000 & 1 & 1 & 1 & 2 \\\\\n",
       "\t18 & 2001 & 45000 & 72539 & 1 & 1 & 1 & 1 \\\\\n",
       "\t19 & 2004 & 45000 & 60000 & 1 & 1 & 1 & 4 \\\\\n",
       "\t20 & 2006 & 45000 & 120000 & 2 & 1 & 1 & 1 \\\\\n",
       "\t21 & 2007 & 45000 & 100000 & 3 & 1 & 1 & 3 \\\\\n",
       "\t22 & 2012 & 45000 & 35000 & 1 & 1 & 1 & 1 \\\\\n",
       "\t23 & 2014 & 45000 & 7000 & 1 & 1 & 1 & 1 \\\\\n",
       "\t24 & 2014 & 45000 & 7000 & 1 & 1 & 1 & 1 \\\\\n",
       "\t25 & 2003 & 48000 & 50000 & 1 & 1 & 1 & 3 \\\\\n",
       "\t26 & 1992 & 50000 & 100000 & 1 & 1 & 1 & 3 \\\\\n",
       "\t27 & 1997 & 50000 & 80000 & 1 & 1 & 1 & 1 \\\\\n",
       "\t28 & 1998 & 50000 & 35000 & 4 & 1 & 1 & 1 \\\\\n",
       "\t29 & 1999 & 50000 & 100000 & 1 & 1 & 1 & 1 \\\\\n",
       "\t30 & 1999 & 50000 & 120000 & 1 & 1 & 1 & 1 \\\\\n",
       "\t$\\dots$ & $\\dots$ & $\\dots$ & $\\dots$ & $\\dots$ & $\\dots$ & $\\dots$ & $\\dots$ \\\\\n",
       "\\end{tabular}\n"
      ],
      "text/plain": [
       "100×7 DataFrame. Omitted printing of 2 columns\n",
       "│ Row │ year  │ selling_price │ km_driven │ fuel   │ seller_type │\n",
       "│     │ \u001b[90mInt64\u001b[39m │ \u001b[90mInt64\u001b[39m         │ \u001b[90mInt64\u001b[39m     │ \u001b[90mString\u001b[39m │ \u001b[90mString\u001b[39m      │\n",
       "├─────┼───────┼───────────────┼───────────┼────────┼─────────────┤\n",
       "│ 1   │ 2005  │ 20000         │ 25000     │ 1      │ 1           │\n",
       "│ 2   │ 2000  │ 22000         │ 42743     │ 1      │ 2           │\n",
       "│ 3   │ 2004  │ 30000         │ 60000     │ 1      │ 1           │\n",
       "│ 4   │ 2002  │ 35000         │ 100000    │ 1      │ 1           │\n",
       "│ 5   │ 2009  │ 35000         │ 50000     │ 1      │ 1           │\n",
       "│ 6   │ 2012  │ 35000         │ 35000     │ 1      │ 1           │\n",
       "│ 7   │ 2004  │ 37500         │ 90000     │ 1      │ 1           │\n",
       "│ 8   │ 1998  │ 40000         │ 40000     │ 1      │ 1           │\n",
       "│ 9   │ 1998  │ 40000         │ 40000     │ 1      │ 1           │\n",
       "│ 10  │ 2001  │ 40000         │ 30000     │ 1      │ 1           │\n",
       "⋮\n",
       "│ 90  │ 2002  │ 65000         │ 100000    │ 1      │ 1           │\n",
       "│ 91  │ 2005  │ 65000         │ 70000     │ 1      │ 1           │\n",
       "│ 92  │ 2005  │ 65000         │ 70000     │ 1      │ 1           │\n",
       "│ 93  │ 2005  │ 65000         │ 150000    │ 1      │ 1           │\n",
       "│ 94  │ 2006  │ 65000         │ 124439    │ 1      │ 1           │\n",
       "│ 95  │ 2008  │ 65000         │ 110000    │ 1      │ 1           │\n",
       "│ 96  │ 2008  │ 65000         │ 140000    │ 1      │ 1           │\n",
       "│ 97  │ 2011  │ 65000         │ 60000     │ 1      │ 1           │\n",
       "│ 98  │ 2001  │ 68000         │ 70000     │ 1      │ 1           │\n",
       "│ 99  │ 2001  │ 68000         │ 70000     │ 1      │ 1           │\n",
       "│ 100 │ 2009  │ 68000         │ 120000    │ 1      │ 1           │"
      ]
     },
     "execution_count": 46,
     "metadata": {},
     "output_type": "execute_result"
    }
   ],
   "source": [
    "# Mengambil kolom \"owner\" dan mengubahnya menjadi numerik\n",
    "owner = changeCatToNum(train[:,7])\n",
    "for i=1:100\n",
    "    train[i,7] = string(owner[i])\n",
    "end\n",
    "\n",
    "# Mengambil kolom \"transmission\" dan mengubahnya menjadi numerik\n",
    "transmission = changeCatToNum(train[:,6])\n",
    "for i=1:100\n",
    "    train[i,6] = string(transmission[i])\n",
    "end\n",
    "\n",
    "# Mengambil kolom \"seller_type\" dan mengubahnya menjadi numerik\n",
    "seller = changeCatToNum(train[:,5])\n",
    "for i=1:100\n",
    "    train[i,5] = string(seller[i])\n",
    "end\n",
    "\n",
    "# Mengambil kolom \"fuel\" dan mengubahnya menjadi numerik\n",
    "fuel = changeCatToNum(train[:,4])\n",
    "for i=1:100\n",
    "    train[i,4] = string(fuel[i])\n",
    "end\n",
    "\n",
    "train"
   ]
  },
  {
   "cell_type": "code",
   "execution_count": 57,
   "metadata": {},
   "outputs": [
    {
     "name": "stdout",
     "output_type": "stream",
     "text": [
      "Korelasi antara 'selling_price' dan 'year' adalah: 0.029105235534804343\n",
      "Korelasi antara 'selling_price' dan 'km_driven' adalah: 0.2008191173453509\n",
      "Korelasi antara 'selling' dan 'fuel' adalah: -0.03255490399743602\n",
      "Korelasi antara 'selling_price' dan 'seller_type' adalah: -0.14390292916147115\n",
      "Korelasi antara 'selling_price' dan 'transmission' adalah: NaN\n",
      "Korelasi antara 'selling_price' dan 'owner' adalah: 0.02976706088621736\n"
     ]
    }
   ],
   "source": [
    "#Cek korelasi antar masing-masing kolom dengan \"selling_price\"\n",
    "\n",
    "#Cek korelasi antara \"year\" dan \"selling_price\"\n",
    "yearToSP = correlation(train[:,1], train[:,2])\n",
    "print(\"Korelasi antara 'selling_price' dan 'year' adalah: \")\n",
    "println(yearToSP)\n",
    "\n",
    "#Cek korelasi antara \"km_driven\" dan \"selling_price\"\n",
    "kmToSP = correlation(train[:,3], train[:,2])\n",
    "print(\"Korelasi antara 'selling_price' dan 'km_driven' adalah: \")\n",
    "println(kmToSP)\n",
    "\n",
    "#Cek korelasi antara \"fuel\" dan \"selling_price\"\n",
    "fuelToSP = correlation(fuel, train[:,2])\n",
    "print(\"Korelasi antara 'selling' dan 'fuel' adalah: \")\n",
    "println(fuelToSP)\n",
    "\n",
    "#Cek korelasi antara \"seller_type\" dan \"selling_price\"\n",
    "sellerToSP = correlation(seller, train[:,2])\n",
    "print(\"Korelasi antara 'selling_price' dan 'seller_type' adalah: \")\n",
    "println(sellerToSP)\n",
    "\n",
    "#Cek korelasi antara \"transmission\" dan \"selling_price\"\n",
    "transmissionToSP = correlation(transmission, train[:,2])\n",
    "print(\"Korelasi antara 'selling_price' dan 'transmission' adalah: \")\n",
    "println(transmissionToSP)\n",
    "\n",
    "#Cek korelasi antara \"owner\" dan \"selling_price\"\n",
    "ownerToSP = correlation(owner, train[:,2])\n",
    "print(\"Korelasi antara 'selling_price' dan 'owner' adalah: \")\n",
    "println(ownerToSP)\n",
    "\n",
    "\n"
   ]
  },
  {
   "cell_type": "code",
   "execution_count": 66,
   "metadata": {},
   "outputs": [
    {
     "data": {
      "text/plain": [
       "100×3 Array{Int64,2}:\n",
       " 2005  1  1\n",
       " 2000  1  2\n",
       " 2004  1  2\n",
       " 2002  1  2\n",
       " 2009  1  2\n",
       " 2012  1  2\n",
       " 2004  1  1\n",
       " 1998  1  3\n",
       " 1998  1  3\n",
       " 2001  1  4\n",
       " 2004  1  2\n",
       " 2010  1  4\n",
       " 2011  1  4\n",
       "    ⋮     \n",
       " 2002  1  1\n",
       " 2002  1  1\n",
       " 2005  1  1\n",
       " 2005  1  1\n",
       " 2005  1  2\n",
       " 2006  1  1\n",
       " 2008  1  2\n",
       " 2008  1  4\n",
       " 2011  1  1\n",
       " 2001  1  4\n",
       " 2001  1  4\n",
       " 2009  1  1"
      ]
     },
     "execution_count": 66,
     "metadata": {},
     "output_type": "execute_result"
    }
   ],
   "source": [
    "# Nilai NaN artinya korelasi antara kedua kolom adalah nol\n",
    "# Dari hasil di atas kolom yang paling pantas untuk menjadi Independent variable\n",
    "# adalah kolom 'year', kolom 'fuel', dan kolom 'owner'\n",
    "\n",
    "# Membentuk matriks yang berisikan dependent variable\n",
    "independent = zeros(Int64, 100, 3)\n",
    "independent[:,1] = train[:,1]\n",
    "independent[:,2] = fuel\n",
    "independent[:,3] = owner\n",
    "independent"
   ]
  },
  {
   "cell_type": "code",
   "execution_count": 86,
   "metadata": {},
   "outputs": [
    {
     "data": {
      "text/plain": [
       "100-element Array{Int64,1}:\n",
       " 20000\n",
       " 22000\n",
       " 30000\n",
       " 35000\n",
       " 35000\n",
       " 35000\n",
       " 37500\n",
       " 40000\n",
       " 40000\n",
       " 40000\n",
       " 40000\n",
       " 40000\n",
       " 40000\n",
       "     ⋮\n",
       " 65000\n",
       " 65000\n",
       " 65000\n",
       " 65000\n",
       " 65000\n",
       " 65000\n",
       " 65000\n",
       " 65000\n",
       " 65000\n",
       " 68000\n",
       " 68000\n",
       " 68000"
      ]
     },
     "execution_count": 86,
     "metadata": {},
     "output_type": "execute_result"
    }
   ],
   "source": [
    "#Dependent variabelnya adalah 'selling_price'\n",
    "#arraynya adalah sebagai berikut\n",
    "dependent = train[:,2]"
   ]
  },
  {
   "cell_type": "code",
   "execution_count": 88,
   "metadata": {},
   "outputs": [
    {
     "data": {
      "text/plain": [
       "4×1 Array{Float64,2}:\n",
       " -71217.2038078187\n",
       "     62.317769035868736\n",
       "   -588.7271809647807\n",
       "    220.6474457495957"
      ]
     },
     "execution_count": 88,
     "metadata": {},
     "output_type": "execute_result"
    }
   ],
   "source": [
    "include(\"test.jl\")\n",
    "#Kita akan mencari koefisien dari Multiple Linear Regressionnya\n",
    "b = findRegConstant(independent, dependent)"
   ]
  },
  {
   "cell_type": "code",
   "execution_count": 90,
   "metadata": {},
   "outputs": [
    {
     "name": "stdout",
     "output_type": "stream",
     "text": [
      "y = -71217.2038078187+ (62.317769035868736)x1+ (-588.7271809647807)x2+ (220.6474457495957)x3"
     ]
    }
   ],
   "source": [
    "# Persamaan Multiple Linear Regressionnya adalah\n",
    "printRegression(b)"
   ]
  },
  {
   "cell_type": "code",
   "execution_count": 101,
   "metadata": {
    "scrolled": true
   },
   "outputs": [],
   "source": [
    "using Plots"
   ]
  },
  {
   "cell_type": "code",
   "execution_count": 103,
   "metadata": {},
   "outputs": [
    {
     "data": {
      "text/html": [
       "<table class=\"data-frame\"><thead><tr><th></th><th>year</th><th>selling_price</th><th>km_driven</th><th>fuel</th><th>seller_type</th><th>transmission</th><th>owner</th></tr><tr><th></th><th>Int64</th><th>Int64</th><th>Int64</th><th>String</th><th>String</th><th>String</th><th>String</th></tr></thead><tbody><p>100 rows × 7 columns</p><tr><th>1</th><td>2009</td><td>68000</td><td>120000</td><td>Petrol</td><td>Individual</td><td>Manual</td><td>Second Owner</td></tr><tr><th>2</th><td>1998</td><td>69000</td><td>70000</td><td>Petrol</td><td>Individual</td><td>Manual</td><td>Second Owner</td></tr><tr><th>3</th><td>2008</td><td>69000</td><td>100000</td><td>Petrol</td><td>Individual</td><td>Manual</td><td>First Owner</td></tr><tr><th>4</th><td>2008</td><td>69000</td><td>100000</td><td>Petrol</td><td>Individual</td><td>Manual</td><td>First Owner</td></tr><tr><th>5</th><td>1999</td><td>70000</td><td>70000</td><td>Petrol</td><td>Individual</td><td>Manual</td><td>Fourth &amp; Above Owner</td></tr><tr><th>6</th><td>1999</td><td>70000</td><td>70000</td><td>Petrol</td><td>Individual</td><td>Manual</td><td>Fourth &amp; Above Owner</td></tr><tr><th>7</th><td>2001</td><td>70000</td><td>117000</td><td>Petrol</td><td>Individual</td><td>Manual</td><td>Second Owner</td></tr><tr><th>8</th><td>2001</td><td>70000</td><td>117000</td><td>Petrol</td><td>Individual</td><td>Manual</td><td>Second Owner</td></tr><tr><th>9</th><td>2003</td><td>70000</td><td>60000</td><td>Petrol</td><td>Individual</td><td>Manual</td><td>Fourth &amp; Above Owner</td></tr><tr><th>10</th><td>2003</td><td>70000</td><td>80000</td><td>Petrol</td><td>Individual</td><td>Manual</td><td>Third Owner</td></tr><tr><th>11</th><td>2003</td><td>70000</td><td>90000</td><td>Petrol</td><td>Individual</td><td>Manual</td><td>Second Owner</td></tr><tr><th>12</th><td>2004</td><td>70000</td><td>50000</td><td>Petrol</td><td>Individual</td><td>Manual</td><td>Second Owner</td></tr><tr><th>13</th><td>2004</td><td>70000</td><td>90000</td><td>Petrol</td><td>Individual</td><td>Manual</td><td>Fourth &amp; Above Owner</td></tr><tr><th>14</th><td>2004</td><td>70000</td><td>90000</td><td>Petrol</td><td>Individual</td><td>Manual</td><td>Fourth &amp; Above Owner</td></tr><tr><th>15</th><td>2004</td><td>70000</td><td>90000</td><td>Petrol</td><td>Individual</td><td>Manual</td><td>Fourth &amp; Above Owner</td></tr><tr><th>16</th><td>2005</td><td>70000</td><td>60000</td><td>Petrol</td><td>Individual</td><td>Manual</td><td>Second Owner</td></tr><tr><th>17</th><td>2005</td><td>70000</td><td>68500</td><td>Petrol</td><td>Dealer</td><td>Manual</td><td>First Owner</td></tr><tr><th>18</th><td>2005</td><td>70000</td><td>68500</td><td>Petrol</td><td>Dealer</td><td>Manual</td><td>First Owner</td></tr><tr><th>19</th><td>2005</td><td>70000</td><td>70000</td><td>Petrol</td><td>Individual</td><td>Manual</td><td>Second Owner</td></tr><tr><th>20</th><td>2005</td><td>70000</td><td>80000</td><td>Diesel</td><td>Individual</td><td>Manual</td><td>First Owner</td></tr><tr><th>21</th><td>2005</td><td>70000</td><td>80000</td><td>Petrol</td><td>Individual</td><td>Manual</td><td>First Owner</td></tr><tr><th>22</th><td>2005</td><td>70000</td><td>90000</td><td>Petrol</td><td>Individual</td><td>Manual</td><td>Third Owner</td></tr><tr><th>23</th><td>2005</td><td>70000</td><td>120000</td><td>Diesel</td><td>Individual</td><td>Manual</td><td>First Owner</td></tr><tr><th>24</th><td>2005</td><td>70000</td><td>170000</td><td>Petrol</td><td>Individual</td><td>Manual</td><td>Third Owner</td></tr><tr><th>25</th><td>2006</td><td>70000</td><td>60000</td><td>Petrol</td><td>Individual</td><td>Manual</td><td>Second Owner</td></tr><tr><th>26</th><td>2006</td><td>70000</td><td>105700</td><td>Petrol</td><td>Individual</td><td>Manual</td><td>First Owner</td></tr><tr><th>27</th><td>2006</td><td>70000</td><td>110000</td><td>Petrol</td><td>Individual</td><td>Manual</td><td>Third Owner</td></tr><tr><th>28</th><td>2007</td><td>70000</td><td>55000</td><td>Petrol</td><td>Individual</td><td>Manual</td><td>Second Owner</td></tr><tr><th>29</th><td>2007</td><td>70000</td><td>120000</td><td>Petrol</td><td>Individual</td><td>Manual</td><td>Third Owner</td></tr><tr><th>30</th><td>2007</td><td>70000</td><td>162000</td><td>LPG</td><td>Individual</td><td>Manual</td><td>First Owner</td></tr><tr><th>&vellip;</th><td>&vellip;</td><td>&vellip;</td><td>&vellip;</td><td>&vellip;</td><td>&vellip;</td><td>&vellip;</td><td>&vellip;</td></tr></tbody></table>"
      ],
      "text/latex": [
       "\\begin{tabular}{r|ccccccc}\n",
       "\t& year & selling\\_price & km\\_driven & fuel & seller\\_type & transmission & owner\\\\\n",
       "\t\\hline\n",
       "\t& Int64 & Int64 & Int64 & String & String & String & String\\\\\n",
       "\t\\hline\n",
       "\t1 & 2009 & 68000 & 120000 & Petrol & Individual & Manual & Second Owner \\\\\n",
       "\t2 & 1998 & 69000 & 70000 & Petrol & Individual & Manual & Second Owner \\\\\n",
       "\t3 & 2008 & 69000 & 100000 & Petrol & Individual & Manual & First Owner \\\\\n",
       "\t4 & 2008 & 69000 & 100000 & Petrol & Individual & Manual & First Owner \\\\\n",
       "\t5 & 1999 & 70000 & 70000 & Petrol & Individual & Manual & Fourth \\& Above Owner \\\\\n",
       "\t6 & 1999 & 70000 & 70000 & Petrol & Individual & Manual & Fourth \\& Above Owner \\\\\n",
       "\t7 & 2001 & 70000 & 117000 & Petrol & Individual & Manual & Second Owner \\\\\n",
       "\t8 & 2001 & 70000 & 117000 & Petrol & Individual & Manual & Second Owner \\\\\n",
       "\t9 & 2003 & 70000 & 60000 & Petrol & Individual & Manual & Fourth \\& Above Owner \\\\\n",
       "\t10 & 2003 & 70000 & 80000 & Petrol & Individual & Manual & Third Owner \\\\\n",
       "\t11 & 2003 & 70000 & 90000 & Petrol & Individual & Manual & Second Owner \\\\\n",
       "\t12 & 2004 & 70000 & 50000 & Petrol & Individual & Manual & Second Owner \\\\\n",
       "\t13 & 2004 & 70000 & 90000 & Petrol & Individual & Manual & Fourth \\& Above Owner \\\\\n",
       "\t14 & 2004 & 70000 & 90000 & Petrol & Individual & Manual & Fourth \\& Above Owner \\\\\n",
       "\t15 & 2004 & 70000 & 90000 & Petrol & Individual & Manual & Fourth \\& Above Owner \\\\\n",
       "\t16 & 2005 & 70000 & 60000 & Petrol & Individual & Manual & Second Owner \\\\\n",
       "\t17 & 2005 & 70000 & 68500 & Petrol & Dealer & Manual & First Owner \\\\\n",
       "\t18 & 2005 & 70000 & 68500 & Petrol & Dealer & Manual & First Owner \\\\\n",
       "\t19 & 2005 & 70000 & 70000 & Petrol & Individual & Manual & Second Owner \\\\\n",
       "\t20 & 2005 & 70000 & 80000 & Diesel & Individual & Manual & First Owner \\\\\n",
       "\t21 & 2005 & 70000 & 80000 & Petrol & Individual & Manual & First Owner \\\\\n",
       "\t22 & 2005 & 70000 & 90000 & Petrol & Individual & Manual & Third Owner \\\\\n",
       "\t23 & 2005 & 70000 & 120000 & Diesel & Individual & Manual & First Owner \\\\\n",
       "\t24 & 2005 & 70000 & 170000 & Petrol & Individual & Manual & Third Owner \\\\\n",
       "\t25 & 2006 & 70000 & 60000 & Petrol & Individual & Manual & Second Owner \\\\\n",
       "\t26 & 2006 & 70000 & 105700 & Petrol & Individual & Manual & First Owner \\\\\n",
       "\t27 & 2006 & 70000 & 110000 & Petrol & Individual & Manual & Third Owner \\\\\n",
       "\t28 & 2007 & 70000 & 55000 & Petrol & Individual & Manual & Second Owner \\\\\n",
       "\t29 & 2007 & 70000 & 120000 & Petrol & Individual & Manual & Third Owner \\\\\n",
       "\t30 & 2007 & 70000 & 162000 & LPG & Individual & Manual & First Owner \\\\\n",
       "\t$\\dots$ & $\\dots$ & $\\dots$ & $\\dots$ & $\\dots$ & $\\dots$ & $\\dots$ & $\\dots$ \\\\\n",
       "\\end{tabular}\n"
      ],
      "text/plain": [
       "100×7 DataFrame. Omitted printing of 2 columns\n",
       "│ Row │ year  │ selling_price │ km_driven │ fuel   │ seller_type │\n",
       "│     │ \u001b[90mInt64\u001b[39m │ \u001b[90mInt64\u001b[39m         │ \u001b[90mInt64\u001b[39m     │ \u001b[90mString\u001b[39m │ \u001b[90mString\u001b[39m      │\n",
       "├─────┼───────┼───────────────┼───────────┼────────┼─────────────┤\n",
       "│ 1   │ 2009  │ 68000         │ 120000    │ Petrol │ Individual  │\n",
       "│ 2   │ 1998  │ 69000         │ 70000     │ Petrol │ Individual  │\n",
       "│ 3   │ 2008  │ 69000         │ 100000    │ Petrol │ Individual  │\n",
       "│ 4   │ 2008  │ 69000         │ 100000    │ Petrol │ Individual  │\n",
       "│ 5   │ 1999  │ 70000         │ 70000     │ Petrol │ Individual  │\n",
       "│ 6   │ 1999  │ 70000         │ 70000     │ Petrol │ Individual  │\n",
       "│ 7   │ 2001  │ 70000         │ 117000    │ Petrol │ Individual  │\n",
       "│ 8   │ 2001  │ 70000         │ 117000    │ Petrol │ Individual  │\n",
       "│ 9   │ 2003  │ 70000         │ 60000     │ Petrol │ Individual  │\n",
       "│ 10  │ 2003  │ 70000         │ 80000     │ Petrol │ Individual  │\n",
       "⋮\n",
       "│ 90  │ 2004  │ 80000         │ 120000    │ Petrol │ Individual  │\n",
       "│ 91  │ 2005  │ 80000         │ 24000     │ Petrol │ Individual  │\n",
       "│ 92  │ 2005  │ 80000         │ 40000     │ Petrol │ Individual  │\n",
       "│ 93  │ 2005  │ 80000         │ 40000     │ Petrol │ Individual  │\n",
       "│ 94  │ 2005  │ 80000         │ 56580     │ Petrol │ Dealer      │\n",
       "│ 95  │ 2005  │ 80000         │ 56580     │ Petrol │ Dealer      │\n",
       "│ 96  │ 2005  │ 80000         │ 56580     │ Petrol │ Dealer      │\n",
       "│ 97  │ 2005  │ 80000         │ 56580     │ Petrol │ Dealer      │\n",
       "│ 98  │ 2005  │ 80000         │ 56580     │ Petrol │ Dealer      │\n",
       "│ 99  │ 2005  │ 80000         │ 56580     │ Petrol │ Dealer      │\n",
       "│ 100 │ 2005  │ 80000         │ 56580     │ Petrol │ Dealer      │"
      ]
     },
     "execution_count": 103,
     "metadata": {},
     "output_type": "execute_result"
    }
   ],
   "source": [
    "# Mengambil data test\n",
    "test = sorted[101:150, :]\n",
    "test"
   ]
  },
  {
   "cell_type": "code",
   "execution_count": 107,
   "metadata": {},
   "outputs": [
    {
     "ename": "UndefVarError",
     "evalue": "UndefVarError: Regressor not defined",
     "output_type": "error",
     "traceback": [
      "UndefVarError: Regressor not defined",
      "",
      "Stacktrace:",
      " [1] top-level scope at .\\In[107]:9"
     ]
    }
   ],
   "source": [
    "# Plot tahun terhadap selling price\n",
    "using .LinReg\n",
    "using LinearAlgebra\n",
    "#penghitungan result\n",
    "result = zeros(50,1)\n",
    "features = test[1:50,1:size(test,2)-1]\n",
    "labels = test[1:50,size(test,2)]\n",
    "\n",
    "for i in 1:30\n",
    "    result[i,1] = dot(features[i,:],Regressor.weight)\n",
    "end\n",
    "\n",
    "factor1 = ones(50)\n",
    "year = test[1:50,1]\n",
    "yp = [factor1 year]\n",
    "coYear = yp\\result\n",
    "f1 = coYear[1]*factor1 + coYear[2]*year\n",
    "\n",
    "graf1 = scatter(year, labels, color=:green, label=\"Actual\", xlabel=\"year\", ylabel=\"selling_price\", title=\"Hubungan year dan selling_price\")\n",
    "graf1 = plot!(year, f1, linewidth=1, color=:red, label = \"Prediction\")\n",
    "plot(graf1)\n"
   ]
  },
  {
   "cell_type": "code",
   "execution_count": null,
   "metadata": {},
   "outputs": [],
   "source": [
    "#Plot fuel terhadap selling_price\n",
    "factor1 = ones(50)\n",
    "fuel = test[1:50,4]\n",
    "yp = [factor1 fuel]\n",
    "coYear = yp\\result\n",
    "f1 = coYear[1]*factor1 + coYear[2]*fuel_type\n",
    "\n",
    "graf2 = scatter(fuel, labels, color=:green, label=\"Actual\", xlabel=\"fuel\", ylabel=\"selling_price\", title=\"Hubungan fuel dan selling_price\")\n",
    "graf2 = plot!(fuel, f1, linewidth=1, color=:red, label = \"Prediction\")\n",
    "\n",
    "plot(graf2)"
   ]
  },
  {
   "cell_type": "code",
   "execution_count": 105,
   "metadata": {},
   "outputs": [
    {
     "ename": "UndefVarError",
     "evalue": "UndefVarError: result not defined",
     "output_type": "error",
     "traceback": [
      "UndefVarError: result not defined",
      "",
      "Stacktrace:",
      " [1] top-level scope at In[105]:5"
     ]
    }
   ],
   "source": [
    "#Plot owner terhadap selling_price\n",
    "factor1 = ones(50)\n",
    "fuel = test[1:50,7]\n",
    "yp = [factor1 fuel]\n",
    "coYear = yp\\result\n",
    "f1 = coYear[1]*factor1 + coYear[2]*fuel_type\n",
    "\n",
    "graf3 = scatter(fuel, labels, color=:green, label=\"Actual\", xlabel=\"owner\", ylabel=\"selling_price\", title=\"Hubungan owner dan selling_price\")\n",
    "graf3 = plot!(fuel, f1, linewidth=1, color=:red, label = \"Prediction\")\n",
    "\n",
    "plot(graf3)"
   ]
  },
  {
   "cell_type": "code",
   "execution_count": null,
   "metadata": {},
   "outputs": [],
   "source": []
  }
 ],
 "metadata": {
  "kernelspec": {
   "display_name": "Julia 1.4.2",
   "language": "julia",
   "name": "julia-1.4"
  },
  "language_info": {
   "file_extension": ".jl",
   "mimetype": "application/julia",
   "name": "julia",
   "version": "1.4.2"
  }
 },
 "nbformat": 4,
 "nbformat_minor": 4
}
